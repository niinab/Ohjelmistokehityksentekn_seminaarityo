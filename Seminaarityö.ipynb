{
  "nbformat": 4,
  "nbformat_minor": 0,
  "metadata": {
    "colab": {
      "name": "Seminaarityö.ipynb",
      "provenance": [],
      "collapsed_sections": [],
      "authorship_tag": "ABX9TyM2tqJrk5Mm1VDR1XTMez1z",
      "include_colab_link": true
    },
    "kernelspec": {
      "name": "python3",
      "display_name": "Python 3"
    }
  },
  "cells": [
    {
      "cell_type": "markdown",
      "metadata": {
        "id": "view-in-github",
        "colab_type": "text"
      },
      "source": [
        "<a href=\"https://colab.research.google.com/github/niinab/Ohjelmistokehityksentekn_seminaarityo/blob/main/Seminaarity%C3%B6.ipynb\" target=\"_parent\"><img src=\"https://colab.research.google.com/assets/colab-badge.svg\" alt=\"Open In Colab\"/></a>"
      ]
    },
    {
      "cell_type": "code",
      "metadata": {
        "id": "j17C1LE6aozy"
      },
      "source": [
        "import tensorflow as tf\n",
        "from tensorflow import keras\n",
        "import datetime, os\n",
        "import numpy as np\n",
        "%load_ext tensorboard\n",
        "\n",
        "\n"
      ],
      "execution_count": null,
      "outputs": []
    },
    {
      "cell_type": "code",
      "metadata": {
        "id": "V8fyXQOna3WT"
      },
      "source": [
        "# Datasetin lataus\n",
        "\n",
        "mnist = tf.keras.datasets.fashion_mnist"
      ],
      "execution_count": null,
      "outputs": []
    },
    {
      "cell_type": "code",
      "metadata": {
        "id": "BiXQpy0Ta3qY"
      },
      "source": [
        "# Training ja test-versioiden lataus\n",
        "# Labels (0 T-shirt/top, 1 Trouser, 2 Pullover, 3 Dress, 4 Coat, 5 Sandals, 6 Shirt, 7 Sneaker, 8 Bag, 9 Ankle boot)\n",
        "\n",
        "(training_images, training_labels),(test_images, test_labels) = mnist.load_data()"
      ],
      "execution_count": null,
      "outputs": []
    },
    {
      "cell_type": "code",
      "metadata": {
        "id": "Rtp61l3Jn5Cd"
      },
      "source": [
        "import matplotlib.pyplot as plt\n",
        "# Ladataan testiversio datasta, (tässä otettu item nro 6)\n",
        "\n",
        "plt.imshow(training_images[6])\n",
        "print(training_labels[6])\n",
        "print(training_images[6])"
      ],
      "execution_count": null,
      "outputs": []
    },
    {
      "cell_type": "code",
      "metadata": {
        "id": "rpGfzkWzohm4"
      },
      "source": [
        "# Kuvadata on esitetty lukuina 0-255 (pixels). Normalisoidaan kuvat jakamalla datamäärä luvulla 255\n",
        "\n",
        "training_images, test_images = training_images / 255.0, test_images / 255.0"
      ],
      "execution_count": null,
      "outputs": []
    },
    {
      "cell_type": "code",
      "metadata": {
        "id": "bCMhAnwSHJJh"
      },
      "source": [
        "# Varmistetaan, missä minkä kokoisia kuvat ovat. Komento tulostaa myös kuvien määrän\n",
        "\n",
        "training_images.shape"
      ],
      "execution_count": null,
      "outputs": []
    },
    {
      "cell_type": "code",
      "metadata": {
        "id": "McDjY9MOIQh8"
      },
      "source": [
        "# Testidatan kuvia on 10000, ja 28x28 pixeliä  \n",
        "\n",
        "test_images.shape"
      ],
      "execution_count": null,
      "outputs": []
    },
    {
      "cell_type": "code",
      "metadata": {
        "id": "2wY17Hfcap7q"
      },
      "source": [
        "# Määritellään malli neljällä eri tasolla. \n",
        "# Sequential > määrittelee tasojen järjestyksen neuroverkossa\n",
        "# Flatten > muuttaa neliön yksiulotteiseksi vektoriksi\n",
        "# Dense > lisää neuronitason\n",
        "# Activation kertoo jokaiselle neuronikerrokselle mitä tehdä\n",
        "# Relu > if x > 0 return X, else return 0. Palauttaa arvon 0 tai suurempi seuraavalle verkkokerrokselle\n",
        "# Dropout > Jättää satunnaisella otannalla tietyn osan neuroverkosta käsittelemättä. Estää ylisovitusta. \n",
        "# Softmax > Neuroverkon viimeinen ulostulotaso. Käytännössä suorittaa joukon arvoja ja palauttaa niistä suurimman\n",
        "\n",
        "model = tf.keras.models.Sequential([tf.keras.layers.Flatten(input_shape=(28, 28)), \n",
        "                                    tf.keras.layers.Dense(512, activation=tf.nn.relu),\n",
        "                                    tf.keras.layers.Dropout(0.2),\n",
        "                                    tf.keras.layers.Dense(10, activation=tf.nn.softmax)])"
      ],
      "execution_count": null,
      "outputs": []
    },
    {
      "cell_type": "code",
      "metadata": {
        "id": "Xe63GwbPfopF"
      },
      "source": [
        "# Mallin määrittelyn jälkeen tulee kouluttamisvaihe \n",
        "# Metrics \"accuracy\" raportoi kouluttamisen tarkkuuden vertaamalla tulosta tiedossa oleviin nimikkeisiin(labels)\n",
        "# Tarkoituksena on, että malli ymmärtää suhteen traning kuvien ja training labelsejen välillä\n",
        "# Validation datalla nähdään miten malli käyttäytyy tuntemattoman datan kanssa (test data)\n",
        "\n",
        "model.compile(optimizer ='Adam',\n",
        "              loss ='sparse_categorical_crossentropy',\n",
        "              metrics=['accuracy'])\n",
        "\n",
        "logdir = os.path.join(\"logs\", datetime.datetime.now().strftime(\"%Y%m%d-%H%M%S\"))\n",
        "tensorboard_callback = tf.keras.callbacks.TensorBoard(logdir, histogram_freq=1)\n",
        "\n",
        "model.fit(x=training_images, y=training_labels, epochs=7, validation_data=(test_images, test_labels), verbose=2, callbacks=[tensorboard_callback])"
      ],
      "execution_count": null,
      "outputs": []
    },
    {
      "cell_type": "code",
      "metadata": {
        "id": "qjAYa1MafLiy"
      },
      "source": [
        "tensorboard --logdir logs"
      ],
      "execution_count": null,
      "outputs": []
    },
    {
      "cell_type": "code",
      "metadata": {
        "id": "ssuQh8O4vvk-"
      },
      "source": [
        "# Callback-funktiolla voidaan määritellä max tarkkuusrajan \n",
        "# Alla olevassa esimerkissä rajana on 90%, jonka jälkeen training pysäytetään vaikka epocheja olisi vielä jäljellä.\n",
        "\n",
        "class myCallback(tf.keras.callbacks.Callback):\n",
        "  def on_epoch_end(self, epoch, logs={}):\n",
        "    if(logs.get('accuracy')>0.90):\n",
        "      print(\"\\nReached 90% accuracy so cancelling training!\")\n",
        "      self.model.stop_training = True\n",
        "\n",
        "callbacks = myCallback()\n",
        "mnist = tf.keras.datasets.fashion_mnist\n",
        "(training_images, training_labels), (test_images, test_labels) = mnist.load_data()\n",
        "training_images=training_images/255.0\n",
        "test_images=test_images/255.0\n",
        "\n",
        "model = tf.keras.models.Sequential([\n",
        "  tf.keras.layers.Flatten(),\n",
        "  tf.keras.layers.Dense(512, activation=tf.nn.relu),\n",
        "  tf.keras.layers.Dense(10, activation=tf.nn.softmax)\n",
        "])\n",
        "model.compile(optimizer='adam', loss='sparse_categorical_crossentropy', metrics=['accuracy'])\n",
        "model.fit(training_images, training_labels, epochs=10, callbacks=[callbacks])"
      ],
      "execution_count": null,
      "outputs": []
    },
    {
      "cell_type": "code",
      "metadata": {
        "id": "7iXy4XXi-osQ"
      },
      "source": [
        "#Tulostetaan mallin yhteenveto\n",
        "\n",
        "model.summary()"
      ],
      "execution_count": null,
      "outputs": []
    },
    {
      "cell_type": "code",
      "metadata": {
        "id": "k8afvaK-uuU8"
      },
      "source": [
        "# Mallin voi tulostaa JSON-muotoon\n",
        "\n",
        "json_string = model.to_json()\n",
        "\n",
        "json_string"
      ],
      "execution_count": null,
      "outputs": []
    },
    {
      "cell_type": "code",
      "metadata": {
        "id": "S1rL0BaF_u6m"
      },
      "source": [
        "# Malli voidaan uudelleen rakentaa JSON-tiedostosta. \n",
        "\n",
        "from tensorflow.keras.models import model_from_json\n",
        "model_architecture = model_from_json(json_string)\n",
        "\n",
        "# Mallin arkkitehtuurinen yhteenveto. Huom. ei sisällä koulutettua dataa, loss tai accuracy tietoja. \n",
        "model_architecture.summary()"
      ],
      "execution_count": null,
      "outputs": []
    },
    {
      "cell_type": "markdown",
      "metadata": {
        "id": "9LE5_wZ1HuPX"
      },
      "source": [
        "Predictions"
      ]
    },
    {
      "cell_type": "code",
      "metadata": {
        "id": "BLK7DdHrHwkY"
      },
      "source": [
        "predictions = model.predict(test_images, verbose=0)\n"
      ],
      "execution_count": null,
      "outputs": []
    },
    {
      "cell_type": "code",
      "metadata": {
        "id": "zFfix_qJsWz4"
      },
      "source": [
        "predictions[0]"
      ],
      "execution_count": null,
      "outputs": []
    },
    {
      "cell_type": "code",
      "metadata": {
        "id": "l5OZV6mcsW-C"
      },
      "source": [
        "plt.figure()\n",
        "plt.imshow(test_images[0])\n",
        "plt.colorbar()\n",
        "plt.show()"
      ],
      "execution_count": null,
      "outputs": []
    },
    {
      "cell_type": "markdown",
      "metadata": {
        "id": "B3wZmq4CC06f"
      },
      "source": [
        "Confusion Matrix"
      ]
    },
    {
      "cell_type": "code",
      "metadata": {
        "id": "zO8Q3-7xCx_v"
      },
      "source": [
        "# %matplotlib inline\n",
        "# from sklearn.metrics import confusion_matrix\n",
        "# import itertools\n",
        "# import matplotlib.pyplot as plt\n",
        "\n"
      ],
      "execution_count": null,
      "outputs": []
    },
    {
      "cell_type": "code",
      "metadata": {
        "id": "2qlH2DrgDEur"
      },
      "source": [
        "# cm = confusion_matrix(y_true=test_labels, y_pred=rounded_predictions)"
      ],
      "execution_count": null,
      "outputs": []
    },
    {
      "cell_type": "code",
      "metadata": {
        "id": "XKs3b0UoKsSe"
      },
      "source": [
        "# def plot_confusion_matrix(cm, classes,\n",
        "#                           normalize=False,\n",
        "#                           title='Confusion matrix',\n",
        "#                           cmap=plt.cm.Blues):\n",
        "    \n",
        "#     plt.imshow(cm, interpolation='nearest', cmap=cmap)\n",
        "#     plt.title(title)\n",
        "#     plt.colorbar()\n",
        "#     tick_marks = np.arange(len(classes))\n",
        "#     plt.xticks(tick_marks, classes, rotation=90)\n",
        "#     plt.yticks(tick_marks, classes)\n",
        "\n",
        "#     if normalize:\n",
        "#         cm = cm.astype('float') / cm.sum(axis=1)[:, np.newaxis]\n",
        "\n",
        "#     thresh = cm.max() / 2.\n",
        "#     for i, j in itertools.product(range(cm.shape[0]), range(cm.shape[1])):\n",
        "#         plt.text(j, i, cm[i, j],\n",
        "#                  horizontalalignment=\"center\",\n",
        "#                  color=\"white\" if cm[i, j] > thresh else \"black\")\n",
        "\n",
        "#     plt.tight_layout()\n",
        "#     plt.ylabel('True label')\n",
        "#     plt.xlabel('Predicted label')"
      ],
      "execution_count": null,
      "outputs": []
    },
    {
      "cell_type": "code",
      "metadata": {
        "id": "INJxS-77Md2h"
      },
      "source": [
        "# # Predict the values from the validation dataset\n",
        "# Y_pred = model.predict(test_labels)\n",
        "# # Convert predictions classes to one hot vectors \n",
        "# Y_pred_classes = np.argmax(Y_pred,axis = 1) \n",
        "# # Convert validation observations to one hot vectors\n",
        "# Y_true = np.argmax(test_images,axis = 1)\n",
        "# # compute the confusion matrix\n",
        "# confusion_mtx = confusion_matrix(Y_true, Y_pred_classes) \n",
        "# # plot the confusion matrix\n",
        "# plot_confusion_matrix(confusion_mtx, \n",
        "#             classes = ['T-shirt/Top','Trouser','Pullover','Dress','Coat','Sandal','Shirt','Sneaker','Bag','Ankle Boot'])"
      ],
      "execution_count": null,
      "outputs": []
    }
  ]
}